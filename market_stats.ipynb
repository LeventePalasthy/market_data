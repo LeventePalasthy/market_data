{
  "nbformat": 4,
  "nbformat_minor": 0,
  "metadata": {
    "colab": {
      "name": "market_stats.ipynb",
      "provenance": [],
      "collapsed_sections": []
    },
    "kernelspec": {
      "name": "python3",
      "display_name": "Python 3"
    },
    "language_info": {
      "name": "python"
    }
  },
  "cells": [
    {
      "cell_type": "code",
      "execution_count": 12,
      "metadata": {
        "id": "DQFXGS5BRhYt"
      },
      "outputs": [],
      "source": [
        "import pandas as pd\n",
        "import datetime"
      ]
    },
    {
      "cell_type": "code",
      "source": [
        "def calculate_intervals(df):\n",
        "  pass\n",
        "\n",
        "market_data = pd.read_csv('US.csv',index_col='Date',parse_dates=True,usecols=['Date','Open','High','Low','Close'])"
      ],
      "metadata": {
        "id": "EQxwCSkER4fG"
      },
      "execution_count": null,
      "outputs": []
    },
    {
      "cell_type": "markdown",
      "source": [
        "Unit tests"
      ],
      "metadata": {
        "id": "3HYW1DSafLYX"
      }
    },
    {
      "cell_type": "code",
      "source": [
        "# Creating test DataFrame for unit tests\n",
        "test_data = {\n",
        "    'Date': ['14/04/2022','09/06/2022','17/06/2022','18/07/2022','19/07/2022','20/07/2022'],\n",
        "    'Open': [139.69,139.41,140,140.03,138.72,138.38],\n",
        "    'High': [140.82,140.66,140.06,140.44,139.28,139.78],\n",
        "    'Low': [138.53,139.34,139.94,138.38,138.03,138.28],\n",
        "    'Close': [139.56,140.03,140.03,139.25,138.56,138.5]\n",
        "}\n",
        "\n",
        "test_df = pd.DataFrame(test_data)\n",
        "test_df.set_index('Date',inplace=True)\n",
        "test_df.index = pd.to_datetime(test_df.index)\n",
        "\n",
        "test_df = calculate_intervals(test_df)\n",
        "\n",
        "# Testing whether the columns have been created sucessfully \n",
        "if not all(item in test_df.columns for item in ['week_max','week_min','month_max','month_min','quarter_max','quarter_min']):\n",
        "  raise ValueError('Unittest 1 failed: At least one column does not exist')\n",
        "\n",
        "# Testing whether the calculations are correct\n",
        "print('Unittest 2: Checking for correctness of aggregates')\n",
        "assert test_df.at['20/7/2022','week_max'] == 140.44, 'Unittest 2 failed: Incorrect value'\n",
        "assert test_df.at['20/7/2022','month_min'] == 139.34, 'Unittest 2 failed: Incorrect value'\n",
        "assert test_df.at['20/7/2022','quarter_min'] == 138.53, 'Unittest 2 failed: Incorrect value'"
      ],
      "metadata": {
        "id": "RB25054TfOKe"
      },
      "execution_count": null,
      "outputs": []
    }
  ]
}